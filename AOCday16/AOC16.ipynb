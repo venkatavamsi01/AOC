{
 "cells": [
  {
   "cell_type": "code",
   "execution_count": 7,
   "metadata": {},
   "outputs": [
    {
     "name": "stdout",
     "output_type": "stream",
     "text": [
      "78428\n"
     ]
    }
   ],
   "source": [
    "import heapq\n",
    "\n",
    "filename = r'C:\\Users\\91630\\Downloads\\AOC\\AOCday16\\AOC16_Input.txt'\n",
    "with open(filename) as f:\n",
    "    grid = [list(line.rstrip('\\n')) for line in f]\n",
    "\n",
    "rows, cols = len(grid), len(grid[0])\n",
    "\n",
    "start = end = None\n",
    "for i in range(rows):\n",
    "    for j in range(cols):\n",
    "        if grid[i][j] == 'S':\n",
    "            start = (i, j)\n",
    "        elif grid[i][j] == 'E':\n",
    "            end = (i, j)\n",
    "\n",
    "directions = [(-1,0),(0,1),(1,0),(0,-1)]\n",
    "dist = [[[float('inf')]*4 for _ in range(cols)] for _ in range(rows)]\n",
    "sx, sy = start\n",
    "ex, ey = end\n",
    "fdir = 1\n",
    "dist[sx][sy][fdir] = 0\n",
    "\n",
    "pq = []\n",
    "heapq.heappush(pq, (0, sx, sy, fdir))\n",
    "\n",
    "def valid(x,y):\n",
    "    return 0 <= x < rows and 0 <= y < cols and grid[x][y] != '#'\n",
    "\n",
    "while pq:\n",
    "    cost, x, y, d = heapq.heappop(pq)\n",
    "    if (x, y) == (ex, ey):\n",
    "        print(cost)\n",
    "        break\n",
    "    if cost > dist[x][y][d]:\n",
    "        continue\n",
    "    nx, ny = x+directions[d][0], y+directions[d][1]\n",
    "    if valid(nx, ny):\n",
    "        nc = cost+1\n",
    "        if nc < dist[nx][ny][d]:\n",
    "            dist[nx][ny][d] = nc\n",
    "            heapq.heappush(pq, (nc, nx, ny, d))\n",
    "    ld = (d-1)%4\n",
    "    nc = cost+1000\n",
    "    if nc < dist[x][y][ld]:\n",
    "        dist[x][y][ld] = nc\n",
    "        heapq.heappush(pq, (nc, x, y, ld))\n",
    "    rd = (d+1)%4\n",
    "    if nc < dist[x][y][rd]:\n",
    "        dist[x][y][rd] = nc\n",
    "        heapq.heappush(pq, (nc, x, y, rd))\n"
   ]
  },
  {
   "cell_type": "code",
   "execution_count": 15,
   "metadata": {},
   "outputs": [
    {
     "data": {
      "text/plain": [
       "463"
      ]
     },
     "execution_count": 15,
     "metadata": {},
     "output_type": "execute_result"
    }
   ],
   "source": [
    "import heapq\n",
    "filename = r'C:\\Users\\91630\\Downloads\\AOC\\AOCday16\\AOC16_Input.txt'\n",
    "with open(filename) as f:\n",
    "    grid = [list(line.rstrip('\\n')) for line in f]\n",
    "\n",
    "rows, cols = len(grid), len(grid[0])\n",
    "start, end = None, None\n",
    "for i in range(rows):\n",
    "    for j in range(cols):\n",
    "        if grid[i][j] == 'S':\n",
    "            start = (i, j)\n",
    "        elif grid[i][j] == 'E':\n",
    "            end = (i, j)\n",
    "\n",
    "sx, sy = start\n",
    "ex, ey = end\n",
    "directions = [(-1, 0), (0, 1), (1, 0), (0, -1)]\n",
    "dist = [[[float('inf')] * 4 for _ in range(cols)] for _ in range(rows)]\n",
    "parent = [[[[] for _ in range(4)] for _ in range(cols)] for _ in range(rows)]\n",
    "dist[sx][sy][1] = 0 \n",
    "\n",
    "pq = [(0, sx, sy, 1)] \n",
    "valid = lambda x, y: 0 <= x < rows and 0 <= y < cols and grid[x][y] != '#'\n",
    "\n",
    "while pq:\n",
    "    cost, x, y, d = heapq.heappop(pq)\n",
    "    if cost > dist[x][y][d]:\n",
    "        continue\n",
    "    for move, turn in [(1, 0), (1000, -1), (1000, 1)]:\n",
    "        nd = (d + turn) % 4\n",
    "        nx, ny = (x + directions[d][0], y + directions[d][1]) if move == 1 else (x, y)\n",
    "        if valid(nx, ny) or move == 1000:\n",
    "            nc = cost + move\n",
    "            if nc < dist[nx][ny][nd]:\n",
    "                dist[nx][ny][nd] = nc\n",
    "                parent[nx][ny][nd] = [(x, y, d)]\n",
    "                heapq.heappush(pq, (nc, nx, ny, nd))\n",
    "            elif nc == dist[nx][ny][nd]:\n",
    "                parent[nx][ny][nd].append((x, y, d))\n",
    "\n",
    "min_cost = min(dist[ex][ey])\n",
    "best_dirs = [d for d in range(4) if dist[ex][ey][d] == min_cost]\n",
    "\n",
    "stack = [(ex, ey, d) for d in best_dirs]\n",
    "visited = set()\n",
    "while stack:\n",
    "    cx, cy, cd = stack.pop()\n",
    "    visited.add((cx, cy))\n",
    "    for px, py, pd in parent[cx][cy][cd]:\n",
    "        stack.append((px, py, pd))\n",
    "len(visited)\n"
   ]
  },
  {
   "cell_type": "code",
   "execution_count": null,
   "metadata": {},
   "outputs": [],
   "source": []
  }
 ],
 "metadata": {
  "kernelspec": {
   "display_name": "base",
   "language": "python",
   "name": "python3"
  },
  "language_info": {
   "codemirror_mode": {
    "name": "ipython",
    "version": 3
   },
   "file_extension": ".py",
   "mimetype": "text/x-python",
   "name": "python",
   "nbconvert_exporter": "python",
   "pygments_lexer": "ipython3",
   "version": "3.9.12"
  }
 },
 "nbformat": 4,
 "nbformat_minor": 2
}
