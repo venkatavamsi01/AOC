{
 "cells": [
  {
   "cell_type": "code",
   "execution_count": null,
   "metadata": {},
   "outputs": [],
   "source": [
    "from collections import Counter\n",
    "\n",
    "def optimized(stones, blinks):\n",
    "    stone_counter = Counter(stones)\n",
    "\n",
    "    for _ in range(blinks):\n",
    "        new_counter = Counter()\n",
    "        for stone, count in stone_counter.items():\n",
    "            if stone == 0:\n",
    "                new_counter[1] += count \n",
    "            elif len(str(stone)) % 2 == 0:\n",
    "                num_str = str(stone)\n",
    "                mid = len(num_str) // 2\n",
    "                left = int(num_str[:mid])\n",
    "                right = int(num_str[mid:])\n",
    "                new_counter[left] += count\n",
    "                new_counter[right] += count\n",
    "            else:\n",
    "                new_counter[stone * 2024] += count\n",
    "\n",
    "        stone_counter = new_counter\n",
    "\n",
    "    return sum(stone_counter.values())\n",
    "\n",
    "stones = [4022724, 951333, 0, 21633, 5857, 97, 702, 6]  \n",
    "blinks = 75  # Number of blinks(25 for first case)\n",
    "result = optimized(stones, blinks)\n",
    "result"
   ]
  }
 ],
 "metadata": {
  "kernelspec": {
   "display_name": "base",
   "language": "python",
   "name": "python3"
  },
  "language_info": {
   "codemirror_mode": {
    "name": "ipython",
    "version": 3
   },
   "file_extension": ".py",
   "mimetype": "text/x-python",
   "name": "python",
   "nbconvert_exporter": "python",
   "pygments_lexer": "ipython3",
   "version": "3.9.12"
  }
 },
 "nbformat": 4,
 "nbformat_minor": 2
}
