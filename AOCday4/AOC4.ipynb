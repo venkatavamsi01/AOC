{
 "cells": [
  {
   "cell_type": "code",
   "execution_count": null,
   "metadata": {},
   "outputs": [
    {
     "data": {
      "text/plain": [
       "2547"
      ]
     },
     "execution_count": 11,
     "metadata": {},
     "output_type": "execute_result"
    }
   ],
   "source": [
    "def count_xmas(grid):\n",
    "    if not grid:\n",
    "        return 0\n",
    "    rows = len(grid)\n",
    "    cols = len(grid[0])\n",
    "    word = \"XMAS\"\n",
    "    word_length = len(word)\n",
    "    count = 0\n",
    "    directions = [(-1, 0), (-1, 1), (0, 1), (1, 1),\n",
    "                  (1, 0), (1, -1), (0, -1), (-1, -1)]\n",
    "\n",
    "    for row in range(rows):\n",
    "        for col in range(cols):\n",
    "            for dr, dc in directions:\n",
    "                match = True\n",
    "                for i in range(word_length):\n",
    "                    r = row + dr * i\n",
    "                    c = col + dc * i\n",
    "                    if r < 0 or r >= rows or c < 0 or c >= cols:\n",
    "                        match = False\n",
    "                        break\n",
    "                    if grid[r][c] != word[i]:\n",
    "                        match = False\n",
    "                        break\n",
    "                if match:\n",
    "                    count += 1\n",
    "    return count\n",
    "\n",
    "file = r'C:\\Users\\91630\\Downloads\\AOC\\AOCday4\\AOC4_Input.txt'\n",
    "with open(file, 'r') as file:\n",
    "    grid = [line.strip() for line in file]\n",
    "\n",
    "total_xmas = count_xmas(grid)\n",
    "total_xmas\n"
   ]
  },
  {
   "cell_type": "code",
   "execution_count": 12,
   "metadata": {},
   "outputs": [
    {
     "data": {
      "text/plain": [
       "1939"
      ]
     },
     "execution_count": 12,
     "metadata": {},
     "output_type": "execute_result"
    }
   ],
   "source": [
    "\n",
    "def count_x_mas(grid):\n",
    "    count = 0\n",
    "    rows = len(grid)\n",
    "    cols = len(grid[0])\n",
    "    for i in range(1, rows - 1):\n",
    "        for j in range(1, cols - 1):\n",
    "            try:\n",
    "                diag1 = grid[i-1][j-1] + grid[i][j] + grid[i+1][j+1]\n",
    "                diag2 = grid[i-1][j+1] + grid[i][j] + grid[i+1][j-1]\n",
    "                valid_diag1 = diag1 == \"MAS\" or diag1 == \"SAM\"\n",
    "                valid_diag2 = diag2 == \"MAS\" or diag2 == \"SAM\"\n",
    "                \n",
    "                if valid_diag1 and valid_diag2:\n",
    "                    count += 1\n",
    "            except IndexError:\n",
    "                continue\n",
    "    return count\n",
    "\n",
    "total_x_mas = count_x_mas(grid)\n",
    "total_x_mas\n"
   ]
  },
  {
   "cell_type": "code",
   "execution_count": null,
   "metadata": {},
   "outputs": [],
   "source": []
  }
 ],
 "metadata": {
  "kernelspec": {
   "display_name": "base",
   "language": "python",
   "name": "python3"
  },
  "language_info": {
   "codemirror_mode": {
    "name": "ipython",
    "version": 3
   },
   "file_extension": ".py",
   "mimetype": "text/x-python",
   "name": "python",
   "nbconvert_exporter": "python",
   "pygments_lexer": "ipython3",
   "version": "3.9.12"
  }
 },
 "nbformat": 4,
 "nbformat_minor": 2
}
