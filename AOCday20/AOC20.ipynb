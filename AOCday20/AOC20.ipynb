{
 "cells": [
  {
   "cell_type": "code",
   "execution_count": 6,
   "metadata": {},
   "outputs": [
    {
     "name": "stdout",
     "output_type": "stream",
     "text": [
      "1490\n",
      "1011325\n"
     ]
    }
   ],
   "source": [
    "data = open(r'C:\\Users\\91630\\Downloads\\AOC\\AOCday20\\AOC20_Input.txt').read().strip().split('\\n')\n",
    "\n",
    "g, s, e, cnt = {}, None, None, 2\n",
    "for r, l in enumerate(data):\n",
    "    for c, v in enumerate(l):\n",
    "        g[(r, c)] = v\n",
    "        if v == 'S': s = (r, c)\n",
    "        if v == 'E': e = (r, c)\n",
    "        if v == '.': cnt += 1\n",
    "\n",
    "d = ((1, 0), (-1, 0), (0, 1), (0, -1))\n",
    "q = [s]\n",
    "dist = {s: 0}\n",
    "for x, y in q:\n",
    "    for dx, dy in d:\n",
    "        nx, ny = x + dx, y + dy\n",
    "        if (nx, ny) not in dist and g.get((nx, ny)) != '#':\n",
    "            q.append((nx, ny))\n",
    "            dist[(nx, ny)] = dist[(x, y)] + 1\n",
    "\n",
    "c = {}\n",
    "for x, y in dist:\n",
    "    for dx, dy in d:\n",
    "        nx, ny = x + 2 * dx, y + 2 * dy\n",
    "        if (nx, ny) in dist and dist[(x, y)] > dist[(nx, ny)]:\n",
    "            n = dist[(x, y)] - dist[(nx, ny)] - 2\n",
    "            if n > 0: c[((x, y), (nx, ny))] = n\n",
    "\n",
    "print(sum(1 for n in c.values() if n >= 100))\n",
    "\n",
    "c = {}\n",
    "for x, y in dist:\n",
    "    for i in range(-20, 21):\n",
    "        for j in range(-20, 21):\n",
    "            if abs(i) + abs(j) <= 20:\n",
    "                nx, ny = x + i, y + j\n",
    "                if (nx, ny) in dist and dist[(x, y)] > dist[(nx, ny)]:\n",
    "                    n = dist[(x, y)] - dist[(nx, ny)] - abs(i) - abs(j)\n",
    "                    if n > 0: c[((x, y), (nx, ny))] = n\n",
    "\n",
    "print(sum(1 for n in c.values() if n >= 100))\n"
   ]
  },
  {
   "cell_type": "code",
   "execution_count": null,
   "metadata": {},
   "outputs": [],
   "source": []
  }
 ],
 "metadata": {
  "kernelspec": {
   "display_name": "base",
   "language": "python",
   "name": "python3"
  },
  "language_info": {
   "codemirror_mode": {
    "name": "ipython",
    "version": 3
   },
   "file_extension": ".py",
   "mimetype": "text/x-python",
   "name": "python",
   "nbconvert_exporter": "python",
   "pygments_lexer": "ipython3",
   "version": "3.9.12"
  }
 },
 "nbformat": 4,
 "nbformat_minor": 2
}
