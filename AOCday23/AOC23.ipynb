{
 "cells": [
  {
   "cell_type": "code",
   "execution_count": 1,
   "metadata": {},
   "outputs": [
    {
     "name": "stdout",
     "output_type": "stream",
     "text": [
      "1218\n"
     ]
    }
   ],
   "source": [
    "f=open(r\"C:\\Users\\91630\\Downloads\\AOC\\AOCday23\\AOC23_Input.txt\");d={}\n",
    "for l in f:d.setdefault((a:=l.strip().split('-'))[0],set()).add(a[1]);d.setdefault(a[1],set()).add(a[0])\n",
    "s=[]\n",
    "for x in d:\n",
    " for y in d[x]:\n",
    "  if y>x:\n",
    "   for z in d[x]&d[y]:\n",
    "    if z>y:s.append((x,y,z))\n",
    "print(sum(any(c.startswith(\"t\") for c in t) for t in s))\n"
   ]
  },
  {
   "cell_type": "code",
   "execution_count": 6,
   "metadata": {},
   "outputs": [
    {
     "name": "stdout",
     "output_type": "stream",
     "text": [
      "ah,ap,ek,fj,fr,jt,ka,ln,me,mp,qa,ql,zg\n"
     ]
    }
   ],
   "source": [
    "adjacency_map = {}\n",
    "with open(r\"C:\\Users\\91630\\Downloads\\AOC\\AOCday23\\AOC23_Input.txt\", 'r') as f:\n",
    "    for line in f:\n",
    "        a, b = line.strip().split('-')\n",
    "        adjacency_map.setdefault(a, set()).add(b)\n",
    "        adjacency_map.setdefault(b, set()).add(a)\n",
    "\n",
    "max_clique = set()\n",
    "\n",
    "def bron_kerbosch(r, p, x):\n",
    "    global max_clique\n",
    "    if not p and not x:\n",
    "        if len(r) > len(max_clique):\n",
    "            max_clique = r\n",
    "        return\n",
    "    pivot = next(iter(p.union(x)))\n",
    "    for v in p - adjacency_map[pivot]:\n",
    "        bron_kerbosch(r.union({v}), p.intersection(adjacency_map[v]), x.intersection(adjacency_map[v]))\n",
    "        p.remove(v)\n",
    "        x.add(v)\n",
    "\n",
    "bron_kerbosch(set(), set(adjacency_map.keys()), set())\n",
    "print(\",\".join(sorted(max_clique)))\n"
   ]
  },
  {
   "cell_type": "code",
   "execution_count": null,
   "metadata": {},
   "outputs": [],
   "source": []
  }
 ],
 "metadata": {
  "kernelspec": {
   "display_name": "base",
   "language": "python",
   "name": "python3"
  },
  "language_info": {
   "codemirror_mode": {
    "name": "ipython",
    "version": 3
   },
   "file_extension": ".py",
   "mimetype": "text/x-python",
   "name": "python",
   "nbconvert_exporter": "python",
   "pygments_lexer": "ipython3",
   "version": "3.9.12"
  }
 },
 "nbformat": 4,
 "nbformat_minor": 2
}
