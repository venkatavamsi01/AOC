{
 "cells": [
  {
   "cell_type": "code",
   "execution_count": 8,
   "metadata": {},
   "outputs": [
    {
     "data": {
      "text/plain": [
       "624"
      ]
     },
     "execution_count": 8,
     "metadata": {},
     "output_type": "execute_result"
    }
   ],
   "source": [
    "import collections\n",
    "\n",
    "DIRECTIONS = [(0, 1), (-1, 0), (0, -1), (1, 0)]\n",
    "\n",
    "def parse_grid(file_path):\n",
    "    grid = {}\n",
    "    with open(file_path, 'r') as file:\n",
    "        lines = file.read().strip().split(\"\\n\")\n",
    "        for i, line in enumerate(lines):\n",
    "            for j, char in enumerate(line):\n",
    "                grid[(i, j)] = int(char)\n",
    "    return grid\n",
    "\n",
    "def calculate_score1(grid):\n",
    "    total_score = 0\n",
    "    for start in grid:\n",
    "        if grid[start] != 0:\n",
    "            continue \n",
    "\n",
    "        visited = set()\n",
    "        q = collections.deque([start])\n",
    "        visited.add(start)\n",
    "        score = 0\n",
    "\n",
    "        while q:\n",
    "            pos = q.popleft()\n",
    "            if grid[pos] == 9:\n",
    "                score += 1\n",
    "                continue\n",
    "            for d in DIRECTIONS:\n",
    "                new_pos = (pos[0] + d[0], pos[1] + d[1])\n",
    "                if new_pos in grid and grid[new_pos] - grid[pos] == 1 and new_pos not in visited:\n",
    "                    visited.add(new_pos)\n",
    "                    q.append(new_pos)\n",
    "        \n",
    "        total_score += score\n",
    "    return total_score\n",
    "\n",
    "input_file = r\"C:\\Users\\91630\\Downloads\\AOC\\AOCday10\\AOC10_Input.txt\" \n",
    "grid = parse_grid(input_file)\n",
    "score1 = calculate_score1(grid)\n",
    "score1"
   ]
  },
  {
   "cell_type": "code",
   "execution_count": 9,
   "metadata": {},
   "outputs": [
    {
     "data": {
      "text/plain": [
       "1483"
      ]
     },
     "execution_count": 9,
     "metadata": {},
     "output_type": "execute_result"
    }
   ],
   "source": [
    "def calculate_score2(grid):\n",
    "    total_score = 0\n",
    "    for start in grid:\n",
    "        if grid[start] != 0:\n",
    "            continue\n",
    "\n",
    "        q = collections.deque([start])\n",
    "        score = 0\n",
    "\n",
    "        while q:\n",
    "            pos = q.popleft()\n",
    "            if grid[pos] == 9:\n",
    "                score += 1\n",
    "                continue\n",
    "            for d in DIRECTIONS:\n",
    "                new_pos = (pos[0] + d[0], pos[1] + d[1])\n",
    "                if new_pos in grid and grid[new_pos] - grid[pos] == 1:\n",
    "                    q.append(new_pos)\n",
    "\n",
    "        total_score += score\n",
    "    return total_score\n",
    "score2 = calculate_score2(grid)\n",
    "score2"
   ]
  },
  {
   "cell_type": "code",
   "execution_count": null,
   "metadata": {},
   "outputs": [],
   "source": []
  }
 ],
 "metadata": {
  "kernelspec": {
   "display_name": "base",
   "language": "python",
   "name": "python3"
  },
  "language_info": {
   "codemirror_mode": {
    "name": "ipython",
    "version": 3
   },
   "file_extension": ".py",
   "mimetype": "text/x-python",
   "name": "python",
   "nbconvert_exporter": "python",
   "pygments_lexer": "ipython3",
   "version": "3.9.12"
  }
 },
 "nbformat": 4,
 "nbformat_minor": 2
}
