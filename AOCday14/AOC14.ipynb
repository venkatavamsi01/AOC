{
 "cells": [
  {
   "cell_type": "code",
   "execution_count": 10,
   "metadata": {},
   "outputs": [
    {
     "name": "stdout",
     "output_type": "stream",
     "text": [
      "[125, 108, 108, 152]\n",
      "221616000\n"
     ]
    }
   ],
   "source": [
    "W = 101\n",
    "H = 103\n",
    "\n",
    "quad = [0,0,0,0]\n",
    "\n",
    "input_file = r\"C:\\Users\\91630\\Downloads\\AOC\\AOCday14\\AOC14_Input.txt\"\n",
    "\n",
    "with open(input_file, \"r\") as f:\n",
    "    for line in f:\n",
    "        line = line.strip()\n",
    "        if line == \"\":\n",
    "            continue\n",
    "        p, v = line.split()\n",
    "        px, py = map(int, p[2:].split(\",\")) \n",
    "        vx, vy = map(int, v[2:].split(\",\"))\n",
    "        nx, ny = px + 100*vx, py + 100*vy\n",
    "        nx = nx % W\n",
    "        ny = ny % H\n",
    "        if nx == W//2 or ny == H//2:\n",
    "            continue\n",
    "        if nx < W//2 and ny < H//2:\n",
    "            quad[0] += 1\n",
    "        elif nx > W//2 and ny < H//2:\n",
    "            quad[1] += 1\n",
    "        elif nx < W//2 and ny > H//2:\n",
    "            quad[2] += 1\n",
    "        else:\n",
    "            quad[3] += 1\n",
    "\n",
    "print(quad)\n",
    "print(quad[0] * quad[1] * quad[2] * quad[3])\n"
   ]
  },
  {
   "cell_type": "code",
   "execution_count": null,
   "metadata": {},
   "outputs": [
    {
     "name": "stdout",
     "output_type": "stream",
     "text": [
      "7572\n",
      "17975\n",
      "28378\n",
      "38781\n"
     ]
    },
    {
     "ename": "KeyboardInterrupt",
     "evalue": "",
     "output_type": "error",
     "traceback": [
      "\u001b[1;31m---------------------------------------------------------------------------\u001b[0m",
      "\u001b[1;31mKeyboardInterrupt\u001b[0m                         Traceback (most recent call last)",
      "Input \u001b[1;32mIn [12]\u001b[0m, in \u001b[0;36m<cell line: 24>\u001b[1;34m()\u001b[0m\n\u001b[0;32m     22\u001b[0m seconds \u001b[38;5;241m=\u001b[39m \u001b[38;5;241m0\u001b[39m\n\u001b[0;32m     23\u001b[0m \u001b[38;5;28;01mwhile\u001b[39;00m \u001b[38;5;28;01mTrue\u001b[39;00m:\n\u001b[1;32m---> 24\u001b[0m     grid \u001b[38;5;241m=\u001b[39m [[\u001b[38;5;241m0\u001b[39m \u001b[38;5;28;01mfor\u001b[39;00m _ \u001b[38;5;129;01min\u001b[39;00m \u001b[38;5;28mrange\u001b[39m(W)] \u001b[38;5;28;01mfor\u001b[39;00m _ \u001b[38;5;129;01min\u001b[39;00m \u001b[38;5;28mrange\u001b[39m(H)]\n\u001b[0;32m     25\u001b[0m     seconds \u001b[38;5;241m+\u001b[39m\u001b[38;5;241m=\u001b[39m \u001b[38;5;241m1\u001b[39m\n\u001b[0;32m     27\u001b[0m     bad \u001b[38;5;241m=\u001b[39m \u001b[38;5;28;01mFalse\u001b[39;00m\n",
      "Input \u001b[1;32mIn [12]\u001b[0m, in \u001b[0;36m<listcomp>\u001b[1;34m(.0)\u001b[0m\n\u001b[0;32m     22\u001b[0m seconds \u001b[38;5;241m=\u001b[39m \u001b[38;5;241m0\u001b[39m\n\u001b[0;32m     23\u001b[0m \u001b[38;5;28;01mwhile\u001b[39;00m \u001b[38;5;28;01mTrue\u001b[39;00m:\n\u001b[1;32m---> 24\u001b[0m     grid \u001b[38;5;241m=\u001b[39m [[\u001b[38;5;241m0\u001b[39m \u001b[38;5;28;01mfor\u001b[39;00m _ \u001b[38;5;129;01min\u001b[39;00m \u001b[38;5;28mrange\u001b[39m(W)] \u001b[38;5;28;01mfor\u001b[39;00m _ \u001b[38;5;129;01min\u001b[39;00m \u001b[38;5;28mrange\u001b[39m(H)]\n\u001b[0;32m     25\u001b[0m     seconds \u001b[38;5;241m+\u001b[39m\u001b[38;5;241m=\u001b[39m \u001b[38;5;241m1\u001b[39m\n\u001b[0;32m     27\u001b[0m     bad \u001b[38;5;241m=\u001b[39m \u001b[38;5;28;01mFalse\u001b[39;00m\n",
      "\u001b[1;31mKeyboardInterrupt\u001b[0m: "
     ]
    }
   ],
   "source": [
    "import time\n",
    "\n",
    "W = 101\n",
    "H = 103\n",
    "\n",
    "ans = [0,0,0,0]\n",
    "\n",
    "robots = []\n",
    "\n",
    "input_file = r\"C:\\Users\\91630\\Downloads\\AOC\\AOCday14\\AOC14_Input.txt\"\n",
    "\n",
    "with open(input_file, \"r\") as f:\n",
    "    for line in f:\n",
    "        line = line.strip()\n",
    "        if line == \"\":\n",
    "            continue\n",
    "        p, v = line.split()\n",
    "        px, py = map(int, p[2:].split(\",\"))\n",
    "        vx, vy = map(int, v[2:].split(\",\"))\n",
    "        robots.append(((px, py), (vx, vy)))\n",
    "\n",
    "seconds = 0\n",
    "while True:\n",
    "    grid = [[0 for _ in range(W)] for _ in range(H)]\n",
    "    seconds += 1\n",
    "\n",
    "    bad = False\n",
    "    for (px, py), (vx, vy) in robots:\n",
    "        nx = (px + seconds * vx) % W\n",
    "        ny = (py + seconds * vy) % H\n",
    "        grid[ny][nx] += 1\n",
    "        if grid[ny][nx] > 1:\n",
    "            bad = True\n",
    "            break\n",
    "\n",
    "    if not bad:\n",
    "        print(seconds)\n"
   ]
  },
  {
   "cell_type": "code",
   "execution_count": null,
   "metadata": {},
   "outputs": [],
   "source": []
  }
 ],
 "metadata": {
  "kernelspec": {
   "display_name": "base",
   "language": "python",
   "name": "python3"
  },
  "language_info": {
   "codemirror_mode": {
    "name": "ipython",
    "version": 3
   },
   "file_extension": ".py",
   "mimetype": "text/x-python",
   "name": "python",
   "nbconvert_exporter": "python",
   "pygments_lexer": "ipython3",
   "version": "3.9.12"
  }
 },
 "nbformat": 4,
 "nbformat_minor": 2
}
