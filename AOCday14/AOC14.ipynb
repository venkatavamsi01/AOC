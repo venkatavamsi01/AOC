{
 "cells": [
  {
   "cell_type": "code",
   "execution_count": null,
   "metadata": {},
   "outputs": [],
   "source": [
    "W, H = 101, 103\n",
    "\n",
    "r = [] \n",
    "f = r\"C:\\Users\\91630\\Downloads\\AOC\\AOCday14\\AOC14_Input.txt\"\n",
    "\n",
    "with open(f, \"r\") as file:\n",
    "    for l in file:\n",
    "        l = l.strip()\n",
    "        if not l:\n",
    "            continue\n",
    "        p, v = l.split()\n",
    "        x, y = map(int, p[2:].split(\",\"))\n",
    "        dx, dy = map(int, v[2:].split(\",\"))\n",
    "        r.append(((x, y), (dx, dy)))\n",
    "\n",
    "t = 0\n",
    "while True:\n",
    "    t += 1\n",
    "    g = [[0] * W for _ in range(H)]\n",
    "\n",
    "    for (x, y), (dx, dy) in r:\n",
    "        nx = (x + t * dx) % W\n",
    "        ny = (y + t * dy) % H\n",
    "        g[ny][nx] += 1\n",
    "        if g[ny][nx] > 1: \n",
    "            break\n",
    "    else:\n",
    "        print(t)\n",
    "        break\n"
   ]
  }
 ],
 "metadata": {
  "kernelspec": {
   "display_name": "base",
   "language": "python",
   "name": "python3"
  },
  "language_info": {
   "name": "python",
   "version": "3.9.12"
  }
 },
 "nbformat": 4,
 "nbformat_minor": 2
}
