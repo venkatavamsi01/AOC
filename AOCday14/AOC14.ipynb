{
 "cells": [
  {
   "cell_type": "code",
   "execution_count": 10,
   "metadata": {},
   "outputs": [
    {
     "name": "stdout",
     "output_type": "stream",
     "text": [
      "[125, 108, 108, 152]\n",
      "221616000\n"
     ]
    }
   ],
   "source": [
    "W = 101\n",
    "H = 103\n",
    "\n",
    "quad = [0,0,0,0]\n",
    "\n",
    "input_file = r\"C:\\Users\\91630\\Downloads\\AOC\\AOCday14\\AOC14_Input.txt\"\n",
    "\n",
    "with open(input_file, \"r\") as f:\n",
    "    for line in f:\n",
    "        line = line.strip()\n",
    "        if line == \"\":\n",
    "            continue\n",
    "        p, v = line.split()\n",
    "        px, py = map(int, p[2:].split(\",\")) \n",
    "        vx, vy = map(int, v[2:].split(\",\"))\n",
    "        nx, ny = px + 100*vx, py + 100*vy\n",
    "        nx = nx % W\n",
    "        ny = ny % H\n",
    "        if nx == W//2 or ny == H//2:\n",
    "            continue\n",
    "        if nx < W//2 and ny < H//2:\n",
    "            quad[0] += 1\n",
    "        elif nx > W//2 and ny < H//2:\n",
    "            quad[1] += 1\n",
    "        elif nx < W//2 and ny > H//2:\n",
    "            quad[2] += 1\n",
    "        else:\n",
    "            quad[3] += 1\n",
    "\n",
    "print(quad)\n",
    "print(quad[0] * quad[1] * quad[2] * quad[3])\n"
   ]
  },
  {
   "cell_type": "code",
   "execution_count": 13,
   "metadata": {},
   "outputs": [
    {
     "name": "stdout",
     "output_type": "stream",
     "text": [
      "7572\n"
     ]
    }
   ],
   "source": [
    "W, H = 101, 103\n",
    "\n",
    "r = []  \n",
    "f = r\"C:\\Users\\91630\\Downloads\\AOC\\AOCday14\\AOC14_Input.txt\"\n",
    "\n",
    "with open(f, \"r\") as file:\n",
    "    for l in file:\n",
    "        l = l.strip()\n",
    "        if not l:\n",
    "            continue\n",
    "        p, v = l.split()\n",
    "        x, y = map(int, p[2:].split(\",\"))\n",
    "        dx, dy = map(int, v[2:].split(\",\"))\n",
    "        r.append(((x, y), (dx, dy)))\n",
    "\n",
    "t = 0\n",
    "while True:\n",
    "    t += 1\n",
    "    g = [[0] * W for _ in range(H)]\n",
    "\n",
    "    for (x, y), (dx, dy) in r:\n",
    "        nx = (x + t * dx) % W\n",
    "        ny = (y + t * dy) % H\n",
    "        g[ny][nx] += 1\n",
    "        if g[ny][nx] > 1:  \n",
    "            break\n",
    "    else: \n",
    "        print(t)\n",
    "        break\n"
   ]
  },
  {
   "cell_type": "code",
   "execution_count": null,
   "metadata": {},
   "outputs": [],
   "source": []
  }
 ],
 "metadata": {
  "kernelspec": {
   "display_name": "base",
   "language": "python",
   "name": "python3"
  },
  "language_info": {
   "codemirror_mode": {
    "name": "ipython",
    "version": 3
   },
   "file_extension": ".py",
   "mimetype": "text/x-python",
   "name": "python",
   "nbconvert_exporter": "python",
   "pygments_lexer": "ipython3",
   "version": "3.9.12"
  }
 },
 "nbformat": 4,
 "nbformat_minor": 2
}
