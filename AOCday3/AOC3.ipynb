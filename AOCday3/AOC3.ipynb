{
 "cells": [
  {
   "cell_type": "code",
   "execution_count": 12,
   "metadata": {},
   "outputs": [
    {
     "data": {
      "text/plain": [
       "156388521"
      ]
     },
     "execution_count": 12,
     "metadata": {},
     "output_type": "execute_result"
    }
   ],
   "source": [
    "import re\n",
    "def processfile(file_path):\n",
    "    pattern = r\"mul\\(\\s*(\\d{1,3})\\s*,\\s*(\\d{1,3})\\s*\\)\"\n",
    "    total= 0\n",
    "    with open(file_path, 'r') as file:\n",
    "        data = file.read()\n",
    "    matches = re.findall(pattern, data)\n",
    "    for match in matches:\n",
    "        x, y = map(int, match)\n",
    "        total += x * y\n",
    "    return total\n",
    "file_path =  r'C:\\Users\\91630\\Downloads\\AOC\\AOCday3\\AOC3_Input.txt'\n",
    "result = processfile(file_path)\n",
    "result\n"
   ]
  },
  {
   "cell_type": "code",
   "execution_count": 13,
   "metadata": {},
   "outputs": [
    {
     "data": {
      "text/plain": [
       "75920122"
      ]
     },
     "execution_count": 13,
     "metadata": {},
     "output_type": "execute_result"
    }
   ],
   "source": [
    "def process(file_path):\n",
    "    pattern = r\"mul\\(\\s*(\\d{1,3})\\s*,\\s*(\\d{1,3})\\s*\\)\"\n",
    "    do = r\"do\\(\\)\"\n",
    "    dont = r\"don't\\(\\)\"\n",
    "    total= 0\n",
    "    flag = True \n",
    "    with open(file_path, 'r') as file:\n",
    "        data = file.read()\n",
    "    instructions = re.findall(f\"({pattern})|({do})|({dont})\", data)\n",
    "    for instruction in instructions:\n",
    "        if instruction[1] and instruction[2]:\n",
    "            if flag:\n",
    "                x, y = int(instruction[1]), int(instruction[2])\n",
    "                total += x * y\n",
    "        elif \"do()\" in instruction:\n",
    "            flag = True\n",
    "        elif \"don't()\" in instruction:\n",
    "            flag = False\n",
    "    \n",
    "    return total\n",
    "result= process(file_path)\n",
    "result\n",
    "\n"
   ]
  },
  {
   "cell_type": "code",
   "execution_count": null,
   "metadata": {},
   "outputs": [],
   "source": []
  }
 ],
 "metadata": {
  "kernelspec": {
   "display_name": "base",
   "language": "python",
   "name": "python3"
  },
  "language_info": {
   "codemirror_mode": {
    "name": "ipython",
    "version": 3
   },
   "file_extension": ".py",
   "mimetype": "text/x-python",
   "name": "python",
   "nbconvert_exporter": "python",
   "pygments_lexer": "ipython3",
   "version": "3.9.12"
  }
 },
 "nbformat": 4,
 "nbformat_minor": 2
}
