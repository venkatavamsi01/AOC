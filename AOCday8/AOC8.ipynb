{
 "cells": [
  {
   "cell_type": "code",
   "execution_count": null,
   "metadata": {},
   "outputs": [
    {
     "data": {
      "text/plain": [
       "423"
      ]
     },
     "execution_count": 1,
     "metadata": {},
     "output_type": "execute_result"
    }
   ],
   "source": [
    "def count_antinodes_from_map(map_lines):\n",
    "    rows = len(map_lines)\n",
    "    cols = len(map_lines[0]) if rows > 0 else 0\n",
    "    antennas_by_freq = {}\n",
    "    for r in range(rows):\n",
    "        for c in range(cols):\n",
    "            ch = map_lines[r][c]\n",
    "            if ch != '.':\n",
    "                # This is an antenna\n",
    "                if ch not in antennas_by_freq:\n",
    "                    antennas_by_freq[ch] = []\n",
    "                antennas_by_freq[ch].append((r, c))\n",
    "    \n",
    "    antinodes = set()\n",
    "    \n",
    "    for freq, antenna_list in antennas_by_freq.items():\n",
    "        n = len(antenna_list)\n",
    "        for i in range(n):\n",
    "            rA, cA = antenna_list[i]\n",
    "            for j in range(i+1, n):\n",
    "                rB, cB = antenna_list[j]\n",
    "                dR = rB - rA\n",
    "                dC = cB - cA\n",
    "                P1_r = 2*rA - rB\n",
    "                P1_c = 2*cA - cB\n",
    "                P2_r = 2*rB - rA\n",
    "                P2_c = 2*cB - cA\n",
    "                if 0 <= P1_r < rows and 0 <= P1_c < cols:\n",
    "                    antinodes.add((P1_r, P1_c))\n",
    "                \n",
    "                if 0 <= P2_r < rows and 0 <= P2_c < cols:\n",
    "                    antinodes.add((P2_r, P2_c))\n",
    "    return len(antinodes)\n",
    "\n",
    "\n",
    "\n",
    "with open(r'C:\\Users\\91630\\Downloads\\AOC\\AOCday8\\AOC8_Input.txt') as f:\n",
    "    map_lines = [line.rstrip('\\n') for line in f]\n",
    "    \n",
    "result = count_antinodes_from_map(map_lines)\n",
    "result\n"
   ]
  },
  {
   "cell_type": "code",
   "execution_count": null,
   "metadata": {},
   "outputs": [
    {
     "data": {
      "text/plain": [
       "1287"
      ]
     },
     "execution_count": 2,
     "metadata": {},
     "output_type": "execute_result"
    }
   ],
   "source": [
    "def count_antinodes(map_lines):\n",
    "    rows = len(map_lines)\n",
    "    cols = len(map_lines[0]) if rows > 0 else 0\n",
    "    antennas_by_freq = {}\n",
    "    for r in range(rows):\n",
    "        for c in range(cols):\n",
    "            ch = map_lines[r][c]\n",
    "            if ch != '.':\n",
    "                antennas_by_freq.setdefault(ch, []).append((r, c))\n",
    "    \n",
    "    antinodes = set()\n",
    "    \n",
    "    for freq, antenna_list in antennas_by_freq.items():\n",
    "        if len(antenna_list) < 2:\n",
    "            continue\n",
    "        \n",
    "        n = len(antenna_list)\n",
    "        for i in range(n):\n",
    "            rA, cA = antenna_list[i]\n",
    "            for j in range(i + 1, n):\n",
    "                rB, cB = antenna_list[j]\n",
    "                dR = rB - rA\n",
    "                dC = cB - cA\n",
    "                if dR == 0 and dC == 0:\n",
    "                    continue\n",
    "                \n",
    "                for R in range(rows):\n",
    "                    for C in range(cols):\n",
    "                        if (R - rA)*dC == (C - cA)*dR:\n",
    "                            antinodes.add((R, C))\n",
    "    \n",
    "    return len(antinodes)\n",
    "    \n",
    "result = count_antinodes(map_lines)\n",
    "result"
   ]
  },
  {
   "cell_type": "code",
   "execution_count": null,
   "metadata": {},
   "outputs": [],
   "source": []
  }
 ],
 "metadata": {
  "kernelspec": {
   "display_name": "base",
   "language": "python",
   "name": "python3"
  },
  "language_info": {
   "codemirror_mode": {
    "name": "ipython",
    "version": 3
   },
   "file_extension": ".py",
   "mimetype": "text/x-python",
   "name": "python",
   "nbconvert_exporter": "python",
   "pygments_lexer": "ipython3",
   "version": "3.9.12"
  }
 },
 "nbformat": 4,
 "nbformat_minor": 2
}
