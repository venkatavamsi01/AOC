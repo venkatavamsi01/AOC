{
 "cells": [
  {
   "cell_type": "code",
   "execution_count": 1,
   "metadata": {},
   "outputs": [
    {
     "name": "stdout",
     "output_type": "stream",
     "text": [
      "2,3,4,7,5,7,3,0,7\n"
     ]
    }
   ],
   "source": [
    "A, B, C = 61657405, 0, 0\n",
    "program = [2,4,1,2,7,5,4,3,0,3,1,7,5,5,3,0]\n",
    "ip, output = 0, []\n",
    "\n",
    "def combo(x):\n",
    "    if x == 0: return 0\n",
    "    if x == 1: return 1\n",
    "    if x == 2: return 2\n",
    "    if x == 3: return 3\n",
    "    if x == 4: return A\n",
    "    if x == 5: return B\n",
    "    if x == 6: return C\n",
    "    return None\n",
    "\n",
    "while ip < len(program):\n",
    "    instr = program[ip]\n",
    "    operand = program[ip+1]\n",
    "    ip +=2\n",
    "    if instr ==0:\n",
    "        denom = 2 ** combo(operand)\n",
    "        A = A // denom\n",
    "    elif instr ==1:\n",
    "        B ^= operand\n",
    "    elif instr ==2:\n",
    "        B = combo(operand) %8\n",
    "    elif instr ==3:\n",
    "        if A !=0:\n",
    "            ip = operand\n",
    "            continue\n",
    "    elif instr ==4:\n",
    "        B ^= C\n",
    "    elif instr ==5:\n",
    "        output.append(str(combo(operand) %8))\n",
    "    elif instr ==6:\n",
    "        denom = 2 ** combo(operand)\n",
    "        B = A // denom\n",
    "    elif instr ==7:\n",
    "        denom = 2 ** combo(operand)\n",
    "        C = A // denom\n",
    "\n",
    "print(','.join(output))\n"
   ]
  },
  {
   "cell_type": "code",
   "execution_count": 15,
   "metadata": {},
   "outputs": [
    {
     "name": "stdout",
     "output_type": "stream",
     "text": [
      "2,3,4,7,5,7,3,0,7\n",
      "190384609508367\n"
     ]
    }
   ],
   "source": [
    "A, B, C = 61657405, 0, 0\n",
    "program = [2, 4, 1, 2, 7, 5, 4, 3, 0, 3, 1, 7, 5, 5, 3, 0]\n",
    "\n",
    "def combo(x, A, B, C):\n",
    "    if x == 0: return 0\n",
    "    if x == 1: return 1\n",
    "    if x == 2: return 2\n",
    "    if x == 3: return 3\n",
    "    if x == 4: return A\n",
    "    if x == 5: return B\n",
    "    if x == 6: return C\n",
    "    return None\n",
    "\n",
    "def run_program(initial_A):\n",
    "    A, B, C = initial_A, 0, 0\n",
    "    ip, output = 0, []\n",
    "    \n",
    "    while ip < len(program):\n",
    "        instr = program[ip]\n",
    "        operand = program[ip + 1]\n",
    "        ip += 2\n",
    "\n",
    "        if instr == 0:\n",
    "            denom = 2 ** combo(operand, A, B, C)\n",
    "            A = A // denom\n",
    "        elif instr == 1:\n",
    "            B ^= operand\n",
    "        elif instr == 2:\n",
    "            B = combo(operand, A, B, C) % 8\n",
    "        elif instr == 3:\n",
    "            if A != 0:\n",
    "                ip = operand\n",
    "                continue\n",
    "        elif instr == 4:\n",
    "            B ^= C\n",
    "        elif instr == 5:\n",
    "            output.append(str(combo(operand, A, B, C) % 8))\n",
    "        elif instr == 6:\n",
    "            denom = 2 ** combo(operand, A, B, C)\n",
    "            B = A // denom\n",
    "        elif instr == 7:\n",
    "            denom = 2 ** combo(operand, A, B, C)\n",
    "            C = A // denom\n",
    "\n",
    "    return output\n",
    "\n",
    "def find_minimal_A(cursor, current_value):\n",
    "    for candidate in range(8):\n",
    "        test_value = current_value * 8 + candidate\n",
    "        if run_program(test_value) == [str(x % 8) for x in program[cursor:]]:\n",
    "            if cursor == 0:\n",
    "                return test_value\n",
    "            result = find_minimal_A(cursor - 1, test_value)\n",
    "            if result is not None:\n",
    "                return result\n",
    "    return None\n",
    "\n",
    "output = run_program(61657405)\n",
    "print(\",\".join(output))\n",
    "\n",
    "minimal_A = find_minimal_A(len(program) - 1, 0)\n",
    "print(minimal_A)\n"
   ]
  }
 ],
 "metadata": {
  "kernelspec": {
   "display_name": "base",
   "language": "python",
   "name": "python3"
  },
  "language_info": {
   "codemirror_mode": {
    "name": "ipython",
    "version": 3
   },
   "file_extension": ".py",
   "mimetype": "text/x-python",
   "name": "python",
   "nbconvert_exporter": "python",
   "pygments_lexer": "ipython3",
   "version": "3.9.12"
  }
 },
 "nbformat": 4,
 "nbformat_minor": 2
}
