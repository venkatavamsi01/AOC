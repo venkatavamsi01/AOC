{
 "cells": [
  {
   "cell_type": "code",
   "execution_count": 3,
   "metadata": {},
   "outputs": [
    {
     "name": "stdout",
     "output_type": "stream",
     "text": [
      "294\n"
     ]
    }
   ],
   "source": [
    "from collections import deque\n",
    "\n",
    "def parse_file(file, limit):\n",
    "    with open(file) as f:\n",
    "        return {(int(x), int(y)) for x, y in (line.split(',') for line in f.readlines()[:limit])}\n",
    "\n",
    "def bfs(grid_size, walls):\n",
    "    directions = [(0, 1), (1, 0), (0, -1), (-1, 0)]\n",
    "    queue = deque([(0, 0, 0)])\n",
    "    visited = set([(0, 0)])\n",
    "    while queue:\n",
    "        x, y, steps = queue.popleft()\n",
    "        if (x, y) == grid_size:\n",
    "            return steps\n",
    "        for dx, dy in directions:\n",
    "            nx, ny = x + dx, y + dy\n",
    "            if 0 <= nx <= grid_size[0] and 0 <= ny <= grid_size[1] and (nx, ny) not in walls and (nx, ny) not in visited:\n",
    "                visited.add((nx, ny))\n",
    "                queue.append((nx, ny, steps + 1))\n",
    "\n",
    "walls = parse_file(r'C:\\Users\\91630\\Downloads\\AOC\\AOCday18\\AOC18_Input.txt', 1024)\n",
    "print(bfs((70, 70), walls))\n"
   ]
  },
  {
   "cell_type": "code",
   "execution_count": 4,
   "metadata": {},
   "outputs": [
    {
     "name": "stdout",
     "output_type": "stream",
     "text": [
      "31,22\n"
     ]
    }
   ],
   "source": [
    "from collections import deque\n",
    "\n",
    "def parse_file(file):\n",
    "    with open(file) as f:\n",
    "        return [(int(x), int(y)) for x, y in (line.split(',') for line in f)]\n",
    "\n",
    "def is_reachable(grid_size, walls):\n",
    "    directions = [(0, 1), (1, 0), (0, -1), (-1, 0)]\n",
    "    queue = deque([(0, 0)])\n",
    "    visited = set([(0, 0)])\n",
    "    while queue:\n",
    "        x, y = queue.popleft()\n",
    "        if (x, y) == grid_size:\n",
    "            return True\n",
    "        for dx, dy in directions:\n",
    "            nx, ny = x + dx, y + dy\n",
    "            if 0 <= nx <= grid_size[0] and 0 <= ny <= grid_size[1] and (nx, ny) not in walls and (nx, ny) not in visited:\n",
    "                visited.add((nx, ny))\n",
    "                queue.append((nx, ny))\n",
    "    return False\n",
    "\n",
    "def find_blocking_byte(grid_size, wall_list):\n",
    "    walls = set()\n",
    "    for wall in wall_list:\n",
    "        walls.add(wall)\n",
    "        if not is_reachable(grid_size, walls):\n",
    "            return wall\n",
    "\n",
    "wall_list = parse_file(r'C:\\Users\\91630\\Downloads\\AOC\\AOCday18\\AOC18_Input.txt')\n",
    "blocking_byte = find_blocking_byte((70, 70), wall_list)\n",
    "print(f\"{blocking_byte[0]},{blocking_byte[1]}\")\n"
   ]
  },
  {
   "cell_type": "code",
   "execution_count": null,
   "metadata": {},
   "outputs": [],
   "source": []
  }
 ],
 "metadata": {
  "kernelspec": {
   "display_name": "base",
   "language": "python",
   "name": "python3"
  },
  "language_info": {
   "codemirror_mode": {
    "name": "ipython",
    "version": 3
   },
   "file_extension": ".py",
   "mimetype": "text/x-python",
   "name": "python",
   "nbconvert_exporter": "python",
   "pygments_lexer": "ipython3",
   "version": "3.9.12"
  }
 },
 "nbformat": 4,
 "nbformat_minor": 2
}
