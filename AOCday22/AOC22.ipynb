{
 "cells": [
  {
   "cell_type": "code",
   "execution_count": 5,
   "metadata": {},
   "outputs": [
    {
     "name": "stdout",
     "output_type": "stream",
     "text": [
      "14696217339\n",
      "1692\n"
     ]
    }
   ],
   "source": [
    "import os\n",
    "from collections import defaultdict\n",
    "\n",
    "input_file = os.path.join(r\"C:\\Users\\91630\\Downloads\\AOC\\AOCday22\\AOC22_Input.txt\")\n",
    "\n",
    "# Part 1\n",
    "with open(input_file) as f:\n",
    "    data = list(map(int, f.read().splitlines()))\n",
    "\n",
    "for _ in range(2000):\n",
    "    data = [((n ^ (n * 64)) % 16777216 ^ ((n ^ (n * 64)) % 16777216 // 32) % 16777216 ^ (((n ^ (n * 64)) % 16777216) * 2048) % 16777216) % 16777216 for n in data]\n",
    "\n",
    "print(sum(data))\n",
    "\n",
    "# Part 2\n",
    "with open(input_file) as f:\n",
    "    data = list(map(int, f.read().splitlines()))\n",
    "\n",
    "patterns_roi = defaultdict(int)\n",
    "\n",
    "for init in data:\n",
    "    n = init\n",
    "    deltas = []\n",
    "    for _ in range(2000):\n",
    "        new_n = ((n ^ (n * 64)) % 16777216 ^ ((n ^ (n * 64)) % 16777216 // 32) % 16777216 ^ (((n ^ (n * 64)) % 16777216) * 2048) % 16777216) % 16777216\n",
    "        deltas.append((new_n % 10 - n % 10, new_n % 10))\n",
    "        n = new_n\n",
    "    \n",
    "    added = set()\n",
    "    for idx in range(len(deltas) - 4):\n",
    "        pat = tuple(d[0] for d in deltas[idx:idx+4])\n",
    "        if pat not in added:\n",
    "            patterns_roi[pat] += deltas[idx+3][1]\n",
    "            added.add(pat)\n",
    "\n",
    "print(max(patterns_roi.values()))\n"
   ]
  },
  {
   "cell_type": "code",
   "execution_count": null,
   "metadata": {},
   "outputs": [],
   "source": []
  }
 ],
 "metadata": {
  "kernelspec": {
   "display_name": "base",
   "language": "python",
   "name": "python3"
  },
  "language_info": {
   "codemirror_mode": {
    "name": "ipython",
    "version": 3
   },
   "file_extension": ".py",
   "mimetype": "text/x-python",
   "name": "python",
   "nbconvert_exporter": "python",
   "pygments_lexer": "ipython3",
   "version": "3.9.12"
  }
 },
 "nbformat": 4,
 "nbformat_minor": 2
}
