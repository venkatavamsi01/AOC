{
 "cells": [
  {
   "cell_type": "code",
   "execution_count": 9,
   "metadata": {},
   "outputs": [
    {
     "name": "stdout",
     "output_type": "stream",
     "text": [
      "308\n"
     ]
    }
   ],
   "source": [
    "filename = r'C:\\Users\\91630\\Downloads\\AOC\\AOCday19\\AOC19_Input.txt'\n",
    "with open(filename) as f:\n",
    "    lines = f.read().strip('\\n').split('\\n')\n",
    "p = [pat.strip() for pat in lines[0].split(',')]\n",
    "i = 1\n",
    "while i < len(lines) and lines[i].strip():\n",
    "    i += 1\n",
    "i += 1\n",
    "\n",
    "c = 0\n",
    "for d in lines[i:]:\n",
    "    d = d.strip()\n",
    "    if not d:\n",
    "        continue\n",
    "    dp = [0] * (len(d) + 1)\n",
    "    dp[0] = 1\n",
    "    for j in range(len(d)):\n",
    "        if dp[j]:\n",
    "            for x in p:\n",
    "                if d.startswith(x, j):\n",
    "                    dp[j + len(x)] = 1\n",
    "    c += dp[-1]\n",
    "print(c)\n"
   ]
  },
  {
   "cell_type": "code",
   "execution_count": 10,
   "metadata": {},
   "outputs": [
    {
     "name": "stdout",
     "output_type": "stream",
     "text": [
      "662726441391898\n"
     ]
    }
   ],
   "source": [
    "filename = r'C:\\Users\\91630\\Downloads\\AOC\\AOCday19\\AOC19_Input.txt'\n",
    "with open(filename) as f:\n",
    "    lines = f.read().split('\\n')\n",
    "p = [pat.strip() for pat in lines[0].split(',')]\n",
    "i = 1\n",
    "while i < len(lines) and lines[i].strip():\n",
    "    i +=1\n",
    "i +=1\n",
    "c = 0\n",
    "for d in lines[i:]:\n",
    "    d = d.strip()\n",
    "    if not d: \n",
    "        continue\n",
    "    dp = [0]*(len(d)+1)\n",
    "    dp[0] = 1\n",
    "    for j in range(len(d)):\n",
    "        if dp[j]:\n",
    "            for x in p:\n",
    "                if d.startswith(x, j):\n",
    "                    dp[j + len(x)] += dp[j]\n",
    "    c += dp[-1]\n",
    "print(c)\n"
   ]
  },
  {
   "cell_type": "code",
   "execution_count": null,
   "metadata": {},
   "outputs": [],
   "source": []
  }
 ],
 "metadata": {
  "kernelspec": {
   "display_name": "base",
   "language": "python",
   "name": "python3"
  },
  "language_info": {
   "codemirror_mode": {
    "name": "ipython",
    "version": 3
   },
   "file_extension": ".py",
   "mimetype": "text/x-python",
   "name": "python",
   "nbconvert_exporter": "python",
   "pygments_lexer": "ipython3",
   "version": "3.9.12"
  }
 },
 "nbformat": 4,
 "nbformat_minor": 2
}
