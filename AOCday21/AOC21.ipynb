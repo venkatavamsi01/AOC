{
 "cells": [
  {
   "cell_type": "code",
   "execution_count": 1,
   "metadata": {},
   "outputs": [
    {
     "name": "stdout",
     "output_type": "stream",
     "text": [
      "P1: 148042\n",
      "P2: 1022647628047098\n"
     ]
    }
   ],
   "source": [
    "import numpy as np\n",
    "from itertools import permutations\n",
    "\n",
    "dkp = {'^':(1,0),'A':(2,0),'<':(0,1),'v':(1,1),'>' :(2,1)}\n",
    "nkp = {'7':(0,0),'8':(1,0),'9':(2,0),'4':(0,1),'5':(1,1),'6':(2,1),'1':(0,2),'2':(1,2),'3':(2,2),'0':(1,3),'A':(2,3)}\n",
    "P = {k: np.array(v) for k, v in {**dkp, **nkp}.items()}\n",
    "D = {'^':np.array([-1,0]), 'v':np.array([1,0]), '<':np.array([0,-1]), '>':np.array([0,1])}\n",
    "\n",
    "ml_m = {}\n",
    "def s2m(s,e,a=np.array([-1,-1])):\n",
    "    d = e - s\n",
    "    m = []\n",
    "    if d[0]<0:\n",
    "        m += ['^']*abs(d[0])\n",
    "    else:\n",
    "        m += ['v']*d[0]\n",
    "    if d[1]<0:\n",
    "        m += ['<']*abs(d[1])\n",
    "    else:\n",
    "        m += ['>']*d[1]\n",
    "    vs = []\n",
    "    for p in set(permutations(m)):\n",
    "        pos = s.copy()\n",
    "        valid = True\n",
    "        for mv in p:\n",
    "            pos += D[mv]\n",
    "            if np.array_equal(pos, a) or not any(np.array_equal(pos, v) for v in P.values()):\n",
    "                valid = False\n",
    "                break\n",
    "        if valid:\n",
    "            vs.append(''.join(p)+'A')\n",
    "    return vs if vs else ['A']\n",
    "\n",
    "def ml(seq, l=2, d=0):\n",
    "    k = (seq, d, l)\n",
    "    if k in ml_m:\n",
    "        return ml_m[k]\n",
    "    a = np.array([3,0]) if d==0 else np.array([0,0])\n",
    "    c = P['A']\n",
    "    t = 0\n",
    "    for ch in seq:\n",
    "        if ch not in P:\n",
    "            continue\n",
    "        np_ = P[ch]\n",
    "        ms = s2m(c, np_, a)\n",
    "        if d >= l:\n",
    "            t += len(min(ms, key=len))\n",
    "        else:\n",
    "            mm = float('inf')\n",
    "            for m in ms:\n",
    "                try:\n",
    "                    ln = ml(m, l, d+1)\n",
    "                    mm = min(mm, ln)\n",
    "                except:\n",
    "                    pass\n",
    "            t += mm if mm != float('inf') else len(min(ms, key=len))\n",
    "        c = np_\n",
    "    ml_m[k] = t\n",
    "    return t\n",
    "\n",
    "def cc(c, l):\n",
    "    n = int(''.join(filter(str.isdigit, c)))\n",
    "    return n * l\n",
    "\n",
    "def s(data, l):\n",
    "    codes = [line.strip() for line in data.splitlines() if line.strip()]\n",
    "    tot = 0\n",
    "    for c in codes:\n",
    "        tot += cc(c, ml(c, l))\n",
    "    return tot\n",
    "\n",
    "if __name__ == \"__main__\":\n",
    "    data = \"\"\"463A\n",
    "340A\n",
    "129A\n",
    "083A\n",
    "341A\"\"\"\n",
    "    print(\"P1:\", s(data,2))\n",
    "    ml_m.clear()\n",
    "    print(\"P2:\", s(data,25))\n"
   ]
  },
  {
   "cell_type": "code",
   "execution_count": null,
   "metadata": {},
   "outputs": [],
   "source": []
  }
 ],
 "metadata": {
  "kernelspec": {
   "display_name": "base",
   "language": "python",
   "name": "python3"
  },
  "language_info": {
   "codemirror_mode": {
    "name": "ipython",
    "version": 3
   },
   "file_extension": ".py",
   "mimetype": "text/x-python",
   "name": "python",
   "nbconvert_exporter": "python",
   "pygments_lexer": "ipython3",
   "version": "3.9.12"
  }
 },
 "nbformat": 4,
 "nbformat_minor": 2
}
