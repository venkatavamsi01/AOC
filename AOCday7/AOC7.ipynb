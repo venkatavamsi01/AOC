{
 "cells": [
  {
   "cell_type": "code",
   "execution_count": 3,
   "metadata": {},
   "outputs": [
    {
     "name": "stdout",
     "output_type": "stream",
     "text": [
      "12940396350192\n"
     ]
    }
   ],
   "source": [
    "def evaluate_expression(numbers, ops):\n",
    "    result = numbers[0]\n",
    "    for op, num in zip(ops, numbers[1:]):\n",
    "        if op == '+':\n",
    "            result = result + num\n",
    "        else:\n",
    "            result = result * num\n",
    "    return result\n",
    "\n",
    "def can_be_true(test_value, numbers):\n",
    "    n_ops = len(numbers) - 1\n",
    "    total_combinations = 2 ** n_ops\n",
    "    for comb in range(total_combinations):\n",
    "        ops = []\n",
    "        for i in range(n_ops):\n",
    "            if (comb >> i) & 1 == 0:\n",
    "                ops.append('+')\n",
    "            else:\n",
    "                ops.append('*')\n",
    "        if evaluate_expression(numbers, ops) == test_value:\n",
    "            return True\n",
    "    return False\n",
    "\n",
    "def main(input_file):\n",
    "    total_calibration = 0\n",
    "\n",
    "    with open(input_file, 'r') as f:\n",
    "        for line in f:\n",
    "            line = line.strip()\n",
    "            if not line:\n",
    "                continue\n",
    "            parts = line.split(':')\n",
    "            test_value_str = parts[0].strip()\n",
    "            numbers_str = parts[1].strip()\n",
    "\n",
    "            test_value = int(test_value_str)\n",
    "            numbers = list(map(int, numbers_str.split()))\n",
    "            if can_be_true(test_value, numbers):\n",
    "                total_calibration += test_value\n",
    "\n",
    "    print(total_calibration)\n",
    "main(r'C:\\Users\\91630\\Downloads\\AOC\\AOCday7\\AOC7_Input.txt')\n"
   ]
  },
  {
   "cell_type": "code",
   "execution_count": 4,
   "metadata": {},
   "outputs": [
    {
     "name": "stdout",
     "output_type": "stream",
     "text": [
      "106016735664498\n"
     ]
    }
   ],
   "source": [
    "def evaluate_expression(numbers, ops):\n",
    "    result = numbers[0]\n",
    "    for op, num in zip(ops, numbers[1:]):\n",
    "        if op == '+':\n",
    "            result = result + num\n",
    "        elif op == '*':\n",
    "            result = result * num\n",
    "        elif op == '||':\n",
    "            result = int(str(result) + str(num))\n",
    "    return result\n",
    "\n",
    "def can_be_true(test_value, numbers):\n",
    "    n_ops = len(numbers) - 1\n",
    "    total_combinations = 3 ** n_ops \n",
    "\n",
    "    for comb in range(total_combinations):\n",
    "        ops = []\n",
    "        temp = comb\n",
    "        for _ in range(n_ops):\n",
    "            r = temp % 3\n",
    "            temp //= 3\n",
    "            if r == 0:\n",
    "                ops.append('+')\n",
    "            elif r == 1:\n",
    "                ops.append('*')\n",
    "            else:\n",
    "                ops.append('||')\n",
    "        if evaluate_expression(numbers, ops) == test_value:\n",
    "            return True\n",
    "\n",
    "    return False\n",
    "\n",
    "def main(input_file):\n",
    "    total_calibration = 0\n",
    "    with open(input_file, 'r') as f:\n",
    "        for line in f:\n",
    "            line = line.strip()\n",
    "            if not line:\n",
    "                continue\n",
    "            \n",
    "            parts = line.split(':')\n",
    "            test_value_str = parts[0].strip()\n",
    "            numbers_str = parts[1].strip()\n",
    "            \n",
    "            test_value = int(test_value_str)\n",
    "            numbers = list(map(int, numbers_str.split()))\n",
    "            \n",
    "            if can_be_true(test_value, numbers):\n",
    "                total_calibration += test_value\n",
    "\n",
    "    print(total_calibration)\n",
    "main(r'C:\\Users\\91630\\Downloads\\AOC\\AOCday7\\AOC7_Input.txt')\n"
   ]
  },
  {
   "cell_type": "code",
   "execution_count": null,
   "metadata": {},
   "outputs": [],
   "source": []
  }
 ],
 "metadata": {
  "kernelspec": {
   "display_name": "base",
   "language": "python",
   "name": "python3"
  },
  "language_info": {
   "codemirror_mode": {
    "name": "ipython",
    "version": 3
   },
   "file_extension": ".py",
   "mimetype": "text/x-python",
   "name": "python",
   "nbconvert_exporter": "python",
   "pygments_lexer": "ipython3",
   "version": "3.9.12"
  }
 },
 "nbformat": 4,
 "nbformat_minor": 2
}
