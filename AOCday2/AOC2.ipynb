{
 "cells": [
  {
   "cell_type": "code",
   "execution_count": 6,
   "metadata": {},
   "outputs": [
    {
     "data": {
      "text/plain": [
       "463"
      ]
     },
     "execution_count": 6,
     "metadata": {},
     "output_type": "execute_result"
    }
   ],
   "source": [
    "def is_safe(levels):\n",
    "    diffs = []\n",
    "    for i in range(len(levels) - 1):\n",
    "        diff = levels[i + 1] - levels[i]\n",
    "        if diff == 0 or abs(diff) < 1 or abs(diff) > 3:\n",
    "            return False\n",
    "        diffs.append(diff)\n",
    "    if all(d > 0 for d in diffs) or all(d < 0 for d in diffs):\n",
    "        return True\n",
    "    return False\n",
    "\n",
    "def count_safe(filename):\n",
    "    safes = 0\n",
    "    with open(filename, 'r') as file:\n",
    "        for line in file:\n",
    "            levels = list(map(int, line.strip().split()))\n",
    "            if is_safe(levels):\n",
    "                safes += 1\n",
    "    return safes\n",
    "filename = r'C:\\Users\\91630\\Downloads\\AOC\\AOCday2\\AOC2_Input.txt'\n",
    "safes = count_safe(filename)\n",
    "safes\n"
   ]
  },
  {
   "cell_type": "markdown",
   "metadata": {},
   "source": [
    "is safe\n",
    "\n",
    "prob safe"
   ]
  },
  {
   "cell_type": "code",
   "execution_count": 5,
   "metadata": {},
   "outputs": [
    {
     "data": {
      "text/plain": [
       "514"
      ]
     },
     "execution_count": 5,
     "metadata": {},
     "output_type": "execute_result"
    }
   ],
   "source": [
    "def is_safe(levels):\n",
    "    diffs = [levels[i + 1] - levels[i] for i in range(len(levels) - 1)]\n",
    "    if any(abs(diff) < 1 or abs(diff) > 3 or diff == 0 for diff in diffs):\n",
    "        return False\n",
    "    if all(diff > 0 for diff in diffs) or all(diff < 0 for diff in diffs):\n",
    "        return True\n",
    "    return False\n",
    "\n",
    "def prob_safe(levels):\n",
    "    for i in range(len(levels)):\n",
    "        new_levels = levels[:i] + levels[i+1:]\n",
    "        if len(new_levels) < 2:\n",
    "            continue\n",
    "        if is_safe(new_levels):\n",
    "            return True\n",
    "    return False\n",
    "\n",
    "def count_safe(filename):\n",
    "    safes = 0\n",
    "    with open(filename, 'r') as file:\n",
    "        for line in file:\n",
    "            levels = list(map(int, line.strip().split()))\n",
    "            if is_safe(levels) or prob_safe(levels):\n",
    "                safes += 1\n",
    "    return safes\n",
    "filename = r'C:\\Users\\91630\\Downloads\\AOC\\AOCday2\\AOC2_Input.txt'\n",
    "safes = count_safe(filename)\n",
    "safes"
   ]
  },
  {
   "cell_type": "code",
   "execution_count": null,
   "metadata": {},
   "outputs": [],
   "source": []
  }
 ],
 "metadata": {
  "kernelspec": {
   "display_name": "base",
   "language": "python",
   "name": "python3"
  },
  "language_info": {
   "codemirror_mode": {
    "name": "ipython",
    "version": 3
   },
   "file_extension": ".py",
   "mimetype": "text/x-python",
   "name": "python",
   "nbconvert_exporter": "python",
   "pygments_lexer": "ipython3",
   "version": "3.9.12"
  }
 },
 "nbformat": 4,
 "nbformat_minor": 2
}
